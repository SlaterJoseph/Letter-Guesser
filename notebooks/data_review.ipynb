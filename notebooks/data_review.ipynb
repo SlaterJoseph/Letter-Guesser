{
 "cells": [
  {
   "cell_type": "code",
   "execution_count": 39,
   "id": "initial_id",
   "metadata": {},
   "outputs": [],
   "source": [
    "import pandas as pd\n",
    "import numpy as np\n",
    "import matplotlib.pyplot as plt\n",
    "import seaborn as sns\n",
    "from PIL import Image"
   ]
  },
  {
   "cell_type": "code",
   "execution_count": 40,
   "id": "88a6ff71-ec2c-4306-b4a3-5e4efbc43913",
   "metadata": {},
   "outputs": [],
   "source": [
    "train = pd.read_csv('../data/emnist-letters-train.csv')"
   ]
  },
  {
   "cell_type": "code",
   "execution_count": 41,
   "id": "ecddcd7d-913f-43fa-9c73-e42249768eba",
   "metadata": {},
   "outputs": [
    {
     "data": {
      "text/plain": [
       "(88799, 785)"
      ]
     },
     "execution_count": 41,
     "metadata": {},
     "output_type": "execute_result"
    }
   ],
   "source": [
    "train.shape"
   ]
  },
  {
   "cell_type": "code",
   "execution_count": 103,
   "id": "b410efee-3b34-45b6-8648-aca350965924",
   "metadata": {},
   "outputs": [
    {
     "data": {
      "text/plain": [
       "<bound method NDFrame.head of        23  0  0.1  0.2  0.3  0.4  0.5  0.6  0.7  0.8  ...  0.406  0.407  \\\n",
       "0       7  0    0    0    0    0    0    0    0    0  ...      0      0   \n",
       "1      16  0    0    0    0    0    0    0    0    0  ...      0      0   \n",
       "2      15  0    0    0    0    0    0    0    0    0  ...      0      0   \n",
       "3      23  0    0    0    0    0    0    0    0    0  ...      0      0   \n",
       "4      17  0    0    0    0    0    0    0    0    0  ...      0      0   \n",
       "...    .. ..  ...  ...  ...  ...  ...  ...  ...  ...  ...    ...    ...   \n",
       "88794   1  0    0    0    0    0    0    0    0    0  ...      0      0   \n",
       "88795  21  0    0    0    0    0    0    0    0    0  ...      0      0   \n",
       "88796   1  0    0    0    0    0    0    0    0    0  ...      0      0   \n",
       "88797  23  0    0    0    0    0    0    0    0    0  ...      0      0   \n",
       "88798  12  0    0    0    0    0    0    0    0    0  ...      0      0   \n",
       "\n",
       "       0.408  0.409  0.410  0.411  0.412  0.413  0.414  0.415  \n",
       "0          0      0      0      0      0      0      0      0  \n",
       "1          0      0      0      0      0      0      0      0  \n",
       "2          0      0      0      0      0      0      0      0  \n",
       "3          0      0      0      0      0      0      0      0  \n",
       "4          0      0      0      0      0      0      0      0  \n",
       "...      ...    ...    ...    ...    ...    ...    ...    ...  \n",
       "88794      0      0      0      0      0      0      0      0  \n",
       "88795      0      0      0      0      0      0      0      0  \n",
       "88796      0      0      0      0      0      0      0      0  \n",
       "88797      0      0      0      0      0      0      0      0  \n",
       "88798      0      0      0      0      0      0      0      0  \n",
       "\n",
       "[88799 rows x 785 columns]>"
      ]
     },
     "execution_count": 103,
     "metadata": {},
     "output_type": "execute_result"
    }
   ],
   "source": [
    "train.head"
   ]
  },
  {
   "cell_type": "code",
   "execution_count": 90,
   "id": "0ad3d341-e506-47dd-b0f4-9ad6923125b0",
   "metadata": {},
   "outputs": [
    {
     "data": {
      "text/plain": [
       "23       int64\n",
       "0        int64\n",
       "0.1      int64\n",
       "0.2      int64\n",
       "0.3      int64\n",
       "         ...  \n",
       "0.411    int64\n",
       "0.412    int64\n",
       "0.413    int64\n",
       "0.414    int64\n",
       "0.415    int64\n",
       "Length: 785, dtype: object"
      ]
     },
     "execution_count": 90,
     "metadata": {},
     "output_type": "execute_result"
    }
   ],
   "source": [
    "train.dtypes"
   ]
  },
  {
   "cell_type": "code",
   "execution_count": 124,
   "id": "14ea9c6f-b435-42e5-a9a1-075518996394",
   "metadata": {},
   "outputs": [],
   "source": [
    "mappings = {}\n",
    "\n",
    "with open('../data/emnist-letters-mapping.txt', 'r') as file:\n",
    "    for line in file:\n",
    "        arr = line.strip().split(' ')\n",
    "        arr[1] = chr(int(arr[1]))\n",
    "        arr[2] = chr(int(arr[2]))\n",
    "        mappings[int(arr[0])] = arr[1]"
   ]
  },
  {
   "cell_type": "code",
   "execution_count": 125,
   "id": "94268430-2961-4611-8323-dc8ff905e36d",
   "metadata": {},
   "outputs": [
    {
     "data": {
      "text/plain": [
       "{1: 'A',\n",
       " 2: 'B',\n",
       " 3: 'C',\n",
       " 4: 'D',\n",
       " 5: 'E',\n",
       " 6: 'F',\n",
       " 7: 'G',\n",
       " 8: 'H',\n",
       " 9: 'I',\n",
       " 10: 'J',\n",
       " 11: 'K',\n",
       " 12: 'L',\n",
       " 13: 'M',\n",
       " 14: 'N',\n",
       " 15: 'O',\n",
       " 16: 'P',\n",
       " 17: 'Q',\n",
       " 18: 'R',\n",
       " 19: 'S',\n",
       " 20: 'T',\n",
       " 21: 'U',\n",
       " 22: 'V',\n",
       " 23: 'W',\n",
       " 24: 'X',\n",
       " 25: 'Y',\n",
       " 26: 'Z'}"
      ]
     },
     "execution_count": 125,
     "metadata": {},
     "output_type": "execute_result"
    }
   ],
   "source": [
    "mappings"
   ]
  },
  {
   "cell_type": "code",
   "execution_count": 126,
   "id": "79f6fe80-f443-4380-8a5f-8c91d35de29b",
   "metadata": {},
   "outputs": [
    {
     "data": {
      "text/plain": [
       "0        G\n",
       "1        P\n",
       "2        O\n",
       "3        W\n",
       "4        Q\n",
       "        ..\n",
       "88794    A\n",
       "88795    U\n",
       "88796    A\n",
       "88797    W\n",
       "88798    L\n",
       "Name: 23, Length: 88799, dtype: object"
      ]
     },
     "execution_count": 126,
     "metadata": {},
     "output_type": "execute_result"
    }
   ],
   "source": [
    "train_labels = train.iloc[:, 0]\n",
    "letters = train_labels.map(mappings)\n",
    "letters"
   ]
  },
  {
   "cell_type": "code",
   "execution_count": 127,
   "id": "29e23542-c2af-4c7a-95ad-7e8f7f458bee",
   "metadata": {},
   "outputs": [
    {
     "data": {
      "text/plain": [
       "23\n",
       "Y    3453\n",
       "K    3438\n",
       "E    3437\n",
       "X    3437\n",
       "T    3436\n",
       "Q    3435\n",
       "P    3430\n",
       "I    3428\n",
       "Z    3427\n",
       "H    3424\n",
       "V    3422\n",
       "W    3422\n",
       "U    3419\n",
       "C    3419\n",
       "R    3419\n",
       "L    3415\n",
       "O    3408\n",
       "J    3402\n",
       "M    3402\n",
       "D    3398\n",
       "B    3396\n",
       "A    3396\n",
       "F    3394\n",
       "S    3392\n",
       "G    3385\n",
       "N    3365\n",
       "Name: count, dtype: int64"
      ]
     },
     "execution_count": 127,
     "metadata": {},
     "output_type": "execute_result"
    }
   ],
   "source": [
    "letters.value_counts()"
   ]
  },
  {
   "cell_type": "code",
   "execution_count": 128,
   "id": "b6150bd8-a952-4c52-ab05-688f541ef25f",
   "metadata": {},
   "outputs": [
    {
     "name": "stderr",
     "output_type": "stream",
     "text": [
      "/var/folders/ns/b8h1x9454hz701p1hzcc_j_c0000gn/T/ipykernel_16896/1234802254.py:4: FutureWarning: \n",
      "\n",
      "Passing `palette` without assigning `hue` is deprecated and will be removed in v0.14.0. Assign the `x` variable to `hue` and set `legend=False` for the same effect.\n",
      "\n",
      "  sns.barplot(x=letters.value_counts().index, y=letters.value_counts().values, palette=\"viridis\")\n"
     ]
    },
    {
     "data": {
      "image/png": "[encoded data removed]",
      "text/plain": [
       "<Figure size 1000x600 with 1 Axes>"
      ]
     },
     "metadata": {},
     "output_type": "display_data"
    }
   ],
   "source": [
    "sns.set(style=\"whitegrid\")\n",
    "\n",
    "plt.figure(figsize=(10, 6))\n",
    "sns.barplot(x=letters.value_counts().index, y=letters.value_counts().values, palette=\"viridis\")\n",
    "\n",
    "plt.xlabel('Uppercase Letters')\n",
    "plt.ylabel('Frequency')\n",
    "plt.title('Distribution of Numbers from 1 to 26')\n",
    "\n",
    "plt.show()"
   ]
  },
  {
   "cell_type": "code",
   "execution_count": 129,
   "id": "e0269d2e-978f-4d11-a41d-500632acd62e",
   "metadata": {},
   "outputs": [],
   "source": [
    "test = pd.read_csv('../data/emnist-letters-test.csv')"
   ]
  },
  {
   "cell_type": "code",
   "execution_count": 130,
   "id": "420cf569-4eb9-498a-92ad-f0bdd9d213ea",
   "metadata": {},
   "outputs": [
    {
     "data": {
      "text/plain": [
       "(14799, 785)"
      ]
     },
     "execution_count": 130,
     "metadata": {},
     "output_type": "execute_result"
    }
   ],
   "source": [
    "test.shape"
   ]
  },
  {
   "cell_type": "code",
   "execution_count": 133,
   "id": "4aff52c1-f853-4174-8605-59cf64e3a5e4",
   "metadata": {},
   "outputs": [
    {
     "data": {
      "text/plain": [
       "0        A\n",
       "1        A\n",
       "2        A\n",
       "3        A\n",
       "4        A\n",
       "        ..\n",
       "14794    S\n",
       "14795    S\n",
       "14796    S\n",
       "14797    S\n",
       "14798    S\n",
       "Name: 1, Length: 14799, dtype: object"
      ]
     },
     "execution_count": 133,
     "metadata": {},
     "output_type": "execute_result"
    }
   ],
   "source": [
    "test_letters = test.iloc[:, 0].map(mapping)\n",
    "test_letters"
   ]
  },
  {
   "cell_type": "code",
   "execution_count": null,
   "id": "14504864-cb9d-4e84-8dfb-041b57627dfb",
   "metadata": {},
   "outputs": [],
   "source": [
    "sns.set(style=\"whitegrid\")\n",
    "\n",
    "plt.figure(figsize=(10, 6))\n",
    "sns.barplot(x=test.value_counts().index, y=letters.value_counts().values, palette=\"viridis\")\n",
    "\n",
    "plt.xlabel('Uppercase Letters')\n",
    "plt.ylabel('Frequency')\n",
    "plt.title('Distribution of Numbers from 1 to 26')\n",
    "\n",
    "plt.show()"
   ]
  }
 ],
 "metadata": {
  "kernelspec": {
   "display_name": "Python 3 (ipykernel)",
   "language": "python",
   "name": "python3"
  },
  "language_info": {
   "codemirror_mode": {
    "name": "ipython",
    "version": 3
   },
   "file_extension": ".py",
   "mimetype": "text/x-python",
   "name": "python",
   "nbconvert_exporter": "python",
   "pygments_lexer": "ipython3",
   "version": "3.10.15"
  }
 },
 "nbformat": 4,
 "nbformat_minor": 5
}
